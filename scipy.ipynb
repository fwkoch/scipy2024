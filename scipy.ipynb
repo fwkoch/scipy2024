{
 "cells": [
  {
   "cell_type": "code",
   "execution_count": 1,
   "id": "b251ff3e-d420-43cb-b76f-4d9483c4fcbf",
   "metadata": {},
   "outputs": [],
   "source": [
    "import franklins_scipy_safety_net as fssn"
   ]
  },
  {
   "cell_type": "code",
   "execution_count": 2,
   "id": "365d0457-61ee-404b-8487-eb935dc1d846",
   "metadata": {},
   "outputs": [
    {
     "data": {
      "application/vnd.jupyter.widget-view+json": {
       "model_id": "b9d5bdc82ed3409ea9ec03e22cd2dcff",
       "version_major": 2,
       "version_minor": 0
      },
      "text/plain": [
       "Label(value='', style=LabelStyle(font_family='courier', font_size='20px'))"
      ]
     },
     "metadata": {},
     "output_type": "display_data"
    }
   ],
   "source": [
    "fssn.relax()"
   ]
  },
  {
   "cell_type": "code",
   "execution_count": 3,
   "id": "1ecea74e-16b0-438b-873d-1501cfb06ab0",
   "metadata": {},
   "outputs": [
    {
     "data": {
      "text/html": [
       "<p style=\"font-family:courier;font-size:20px\">🚨 Unknown command. Did you mean <b>`fssn.PANIC`</b>? 🚨</p>"
      ],
      "text/plain": [
       "<IPython.core.display.HTML object>"
      ]
     },
     "metadata": {},
     "output_type": "display_data"
    }
   ],
   "source": [
    "fssn.panic()"
   ]
  },
  {
   "cell_type": "code",
   "execution_count": 4,
   "id": "bc7ba098-8599-415e-83cf-f8d2eb3cf762",
   "metadata": {},
   "outputs": [
    {
     "data": {
      "text/html": [
       "<p style=\"font-family:courier;font-size:20px\">🚨🚨🚨🚨 <font color=\"red\">Unknown command. Did you mean <b>`fssn.PUNic`</b>? 🚨🚨🚨🚨</p>"
      ],
      "text/plain": [
       "<IPython.core.display.HTML object>"
      ]
     },
     "metadata": {},
     "output_type": "display_data"
    }
   ],
   "source": [
    "fssn.PANIC()"
   ]
  },
  {
   "cell_type": "code",
   "execution_count": 5,
   "id": "b28cfaed-61f1-4ce3-bb34-b1183d681565",
   "metadata": {},
   "outputs": [
    {
     "data": {
      "application/vnd.jupyter.widget-view+json": {
       "model_id": "f56df821e1b3485da092ebf57596d762",
       "version_major": 2,
       "version_minor": 0
      },
      "text/plain": [
       "VBox(children=(Button(description='help', style=ButtonStyle(font_family='courier', font_size='15px')), Label(v…"
      ]
     },
     "metadata": {},
     "output_type": "display_data"
    }
   ],
   "source": [
    "fssn.PUNic()"
   ]
  },
  {
   "cell_type": "code",
   "execution_count": null,
   "id": "78f14d01-08bc-4649-845e-2c9572e7ee41",
   "metadata": {},
   "outputs": [],
   "source": []
  }
 ],
 "metadata": {
  "kernelspec": {
   "display_name": "Python 3 (ipykernel)",
   "language": "python",
   "name": "python3"
  },
  "language_info": {
   "codemirror_mode": {
    "name": "ipython",
    "version": 3
   },
   "file_extension": ".py",
   "mimetype": "text/x-python",
   "name": "python",
   "nbconvert_exporter": "python",
   "pygments_lexer": "ipython3",
   "version": "3.10.12"
  }
 },
 "nbformat": 4,
 "nbformat_minor": 5
}
